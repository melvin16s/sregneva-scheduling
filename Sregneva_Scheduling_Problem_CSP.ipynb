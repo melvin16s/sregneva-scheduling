{
 "cells": [
  {
   "cell_type": "markdown",
   "metadata": {},
   "source": [
    "# Scheduling Problem by Sregneva\n",
    "In this code we will be implementing CSP (Constraint Satifaction Problem) to solve a scheduling problem using the UCS (Un-Constrained Scheduling) type of algorithm, where we will take the first solution that is found.\n",
    "\n",
    "We are using Ortools. A library created by Google to help solve the model that we will create. (https://developers.google.com/optimization/install/python)\n",
    "Constraints that are used:\n",
    "1. One doctor and one nurse per shift\n",
    "2. No doctor or nurse works more than one shift in one day\n",
    "3. No doctor or nurse who worked the latest shift works the next day earliest shift\n",
    "4. No specialist works on the latest shift"
   ]
  },
  {
   "cell_type": "markdown",
   "metadata": {},
   "source": [
    "## Setting Up The Model"
   ]
  },
  {
   "cell_type": "markdown",
   "metadata": {},
   "source": [
    "### Importing the Library"
   ]
  },
  {
   "cell_type": "markdown",
   "metadata": {},
   "source": [
    "First, we need to import cp_model from ortools.sat.python."
   ]
  },
  {
   "cell_type": "code",
   "execution_count": 1,
   "metadata": {},
   "outputs": [],
   "source": [
    "#!pip install ortools\n",
    "from ortools.sat.python import cp_model"
   ]
  },
  {
   "cell_type": "markdown",
   "metadata": {},
   "source": [
    "### Variables Initialization"
   ]
  },
  {
   "cell_type": "markdown",
   "metadata": {},
   "source": [
    "Here we will initialize the variables that we need.\n",
    "We ask for user, which is thought as admin here, to input the number of nurses, the number of general doctors, the number of specialists, the number of days, and the number of shift wanted.\n",
    "We sum up the general doctor and specialist to make only one schedule for the doctors, when we need to check if the doctor is a specialist or not, we will check them by their index.\n",
    "After that we will create a range variable for each of those inputed variables.<br>\n",
    "We also need to initialize a model from the cp_model that we have imported"
   ]
  },
  {
   "cell_type": "markdown",
   "metadata": {},
   "source": [
    "The input for must be following these rules:\n",
    "1. There has to be more than 1 shift\n",
    "2. There has to be more than 1 nurse\n",
    "3. There has to be more than 1 general doctor/specialist\n",
    "4. There has to be more than or equal to the number of nurses and the number of doctors"
   ]
  },
  {
   "cell_type": "code",
   "execution_count": 2,
   "metadata": {},
   "outputs": [],
   "source": [
    "def input_checker(inputed):\n",
    "    if inputed <= 1:\n",
    "        inputed = input_checker(int(input(\"The number you entered is violating the input rules.\" +\n",
    "                                          \"Please re-enter the number.\\n\")))\n",
    "    return inputed\n",
    "\n",
    "def input_checker_shift(inputed):\n",
    "    if inputed <= 1 or inputed > 4:\n",
    "        inputed = input_checker(int(input(\"The number you entered is violating the input rules.\" +\n",
    "                                          \"Please re-enter the number.\\n\")))\n",
    "    return inputed\n",
    "\n",
    "def input_checker_nurse(num_nurses, num_shifts):\n",
    "    if num_nurses <= 1 or num_nurses < num_shifts:\n",
    "        num_nurses = input_checker_nurse(int(input(\"The number you entered is violating the input rules.\" +\n",
    "                                          \"Please re-enter the number.\\n\")), num_shifts)\n",
    "    return num_nurses\n",
    "\n",
    "def input_checker_doc(num_doctor_general, num_doctor_special, num_shifts):\n",
    "    if num_doctor_general + num_doctor_special <= 1 or num_doctor_general + num_doctor_special < num_shifts:\n",
    "        num_doctor_general = int(input(\"The number you entered is violating the input rules. \" +\n",
    "                                       \"Please re-nter the number.\\n\\nEnter number of genral doctors:\\n\"))\n",
    "        num_doctor_special = int(input(\"Enter number of specialist doctors:\\n\"))\n",
    "        input_checker_doc(num_doctor_general, num_doctor_special, num_shifts)\n",
    "    return num_doctor_general, num_doctor_special"
   ]
  },
  {
   "cell_type": "code",
   "execution_count": 3,
   "metadata": {},
   "outputs": [
    {
     "name": "stdout",
     "output_type": "stream",
     "text": [
      "Enter number of shifts:\n",
      "3\n",
      "Enter number of days:\n",
      "7\n",
      "Enter number of general doctors:\n",
      "3\n",
      "Enter number of specialist doctors:\n",
      "2\n",
      "Enter number of nurses:\n",
      "5\n"
     ]
    }
   ],
   "source": [
    "#Variable initialization\n",
    "num_shifts = input_checker_shift(int(input(\"Enter number of shifts:\\n\")))\n",
    "num_days = input_checker(int(input(\"Enter number of days:\\n\")))\n",
    "\n",
    "num_doctor_general = int(input(\"Enter number of general doctors:\\n\"))\n",
    "num_doctor_special = int(input(\"Enter number of specialist doctors:\\n\"))\n",
    "num_doctor_general, num_doctor_special = input_checker_doc(num_doctor_general, num_doctor_special, num_shifts)\n",
    "num_doctors = (num_doctor_general + num_doctor_special)\n",
    "\n",
    "num_nurses = input_checker_nurse(int(input(\"Enter number of nurses:\\n\")), num_shifts)\n",
    "\n",
    "all_nurses = range(num_nurses)\n",
    "all_doctors = range(num_doctors)\n",
    "all_shifts = range(num_shifts)\n",
    "all_days = range(num_days)\n",
    "\n",
    "# Creates the model.\n",
    "model = cp_model.CpModel()"
   ]
  },
  {
   "cell_type": "markdown",
   "metadata": {},
   "source": [
    "Next, we need to initialize a set for the nurses and the doctors."
   ]
  },
  {
   "cell_type": "code",
   "execution_count": 4,
   "metadata": {},
   "outputs": [],
   "source": [
    "# Creates shift variables.\n",
    "# nurse_shifts[(n, d, s)]: nurse 'n' works shift 's' on day 'd'.\n",
    "nurse_shifts = {}\n",
    "for n in all_nurses:\n",
    "    for d in all_days:\n",
    "        for s in all_shifts:\n",
    "            nurse_shifts[(n, d, s)] = model.NewBoolVar('shift_n%id%is%i' % (n, d, s))\n",
    "            \n",
    "# doctor_shifts[(n, d, s)]: doctor 'n' works shift 's' on day 'd'.\n",
    "doctor_shifts = {}\n",
    "for n in all_doctors:\n",
    "    for d in all_days:\n",
    "        for s in all_shifts:\n",
    "            doctor_shifts[(n, d, s)] = model.NewBoolVar('shift_dc%id%is%i' % (n, d, s))"
   ]
  },
  {
   "cell_type": "markdown",
   "metadata": {},
   "source": [
    "## Adding Constraints to The Model"
   ]
  },
  {
   "cell_type": "markdown",
   "metadata": {},
   "source": [
    "As mentioned above, we use the following constraints:\n",
    "1. One doctor and one nurse per shift\n",
    "2. No doctor or nurse works more than one shift in one day\n",
    "3. No doctor or nurse who worked the latest shift works the next day earliest shift\n",
    "4. No specialist works on the latest shift"
   ]
  },
  {
   "cell_type": "markdown",
   "metadata": {},
   "source": [
    "All while trying to make a schedule that is as even as possible to every nurse and every doctor."
   ]
  },
  {
   "cell_type": "code",
   "execution_count": 5,
   "metadata": {},
   "outputs": [],
   "source": [
    "# Adding the constraints\n",
    "# Each shift is assigned to exactly one nurse and one doctor.\n",
    "for d in all_days:\n",
    "    for s in all_shifts:\n",
    "        model.Add(sum(nurse_shifts[(n, d, s)] for n in all_nurses) == 1)\n",
    "        model.Add(sum(doctor_shifts[(n, d, s)] for n in all_doctors) == 1)\n",
    "\n",
    "for n in all_nurses:\n",
    "    for d in all_days:\n",
    "        # Each nurse works at most one shift per day.\n",
    "        model.Add(sum(nurse_shifts[(n, d, s)] for s in all_shifts) <= 1)\n",
    "        \n",
    "        #Each nurse who works on the last shift \n",
    "        #will not work on the first shift of the following day\n",
    "        model.Add(sum([nurse_shifts[(n, d, num_shifts - 1)], nurse_shifts[(n, (d + 1) % num_days, 0)]]) <= 1)\n",
    "        \n",
    "for n in all_doctors:\n",
    "    for d in all_days:\n",
    "        # Each doctor works at most one shift per day.\n",
    "        model.Add(sum(doctor_shifts[(n, d, s)] for s in all_shifts) <= 1)\n",
    "        \n",
    "        #Each doctor who works on the last shift \n",
    "        #will not work on the first shift of the following day\n",
    "        model.Add(sum([doctor_shifts[(n, d, num_shifts - 1)], doctor_shifts[(n, (d + 1) % num_days, 0)]]) <= 1)\n",
    "\n",
    "#No specialist doctor will work on the last shift\n",
    "for n in range(num_doctors - num_doctor_special, num_doctors):\n",
    "    for d in all_days:\n",
    "        model.Add(sum([doctor_shifts[(n, d, num_shifts - 1)]]) == 0)\n",
    "        \n",
    "# Try to distribute the shifts evenly, so that each nurse and each doctor works\n",
    "# min_shifts_per_nurse shifts. If this is not possible, because the total\n",
    "# number of shifts is not divisible by the number of nurses or by the number of doctors,\n",
    "# some nurses and some doctors will be assigned one more shift.\n",
    "min_shifts_per_nurse = (num_shifts * num_days) // num_nurses\n",
    "if num_shifts * num_days % num_nurses == 0:\n",
    "    max_shifts_per_nurse = min_shifts_per_nurse\n",
    "else:\n",
    "    max_shifts_per_nurse = min_shifts_per_nurse + 1\n",
    "for n in all_nurses:\n",
    "    num_shifts_worked = 0\n",
    "    for d in all_days:\n",
    "        for s in all_shifts:\n",
    "            num_shifts_worked += nurse_shifts[(n, d, s)]\n",
    "    model.Add(min_shifts_per_nurse <= num_shifts_worked)\n",
    "    model.Add(num_shifts_worked <= max_shifts_per_nurse)\n",
    "    \n",
    "min_shifts_per_doctor = (num_shifts * num_days) // num_doctors\n",
    "if num_shifts * num_days % num_doctors == 0:\n",
    "    max_shifts_per_doctor = min_shifts_per_doctor\n",
    "else:\n",
    "    max_shifts_per_doctor = min_shifts_per_doctor + 1\n",
    "for n in all_doctors:\n",
    "    num_shifts_worked = 0\n",
    "    for d in all_days:\n",
    "        for s in all_shifts:\n",
    "            num_shifts_worked += doctor_shifts[(n, d, s)]\n",
    "    model.Add(min_shifts_per_doctor <= num_shifts_worked)\n",
    "    model.Add(num_shifts_worked <= max_shifts_per_doctor)"
   ]
  },
  {
   "cell_type": "markdown",
   "metadata": {},
   "source": [
    "## Solving and Printing"
   ]
  },
  {
   "cell_type": "markdown",
   "metadata": {},
   "source": [
    "### Print All"
   ]
  },
  {
   "cell_type": "markdown",
   "metadata": {},
   "source": [
    "Here, we will print all schedule."
   ]
  },
  {
   "cell_type": "code",
   "execution_count": 6,
   "metadata": {},
   "outputs": [],
   "source": [
    "class SolutionPrinter(cp_model.CpSolverSolutionCallback):\n",
    "    \"\"\"Print solutions.\"\"\"\n",
    "\n",
    "    def __init__(self, nurse_shifts, num_nurses, doctor_shifts, num_doctors, num_days, num_shifts, num_doctor_general):\n",
    "        cp_model.CpSolverSolutionCallback.__init__(self)\n",
    "        self._nurse_shifts = nurse_shifts\n",
    "        self._num_nurses = num_nurses\n",
    "        self._doctor_shifts = doctor_shifts\n",
    "        self._num_doctors = num_doctors\n",
    "        self._num_days = num_days\n",
    "        self._num_shifts = num_shifts\n",
    "        self._num_doctor_general = num_doctor_general\n",
    "        \n",
    "    def day_converter(day):\n",
    "        if day%7 == 0:\n",
    "            return \"Monday\"\n",
    "        elif day%7 == 1:\n",
    "            return \"Tuesday\"\n",
    "        elif day%7 == 2:\n",
    "            return \"Wednesday\"\n",
    "        elif day%7 == 3:\n",
    "            return \"Thursday\"\n",
    "        elif day%7 == 4:\n",
    "            return \"Friday\"\n",
    "        elif day%7 == 5:\n",
    "            return \"Saturday\"\n",
    "        elif day%7 == 6:\n",
    "            return \"Sunday\"\n",
    "        \n",
    "    def on_solution_callback(self):\n",
    "        string_output = \"\"\n",
    "        for d in range(self._num_days):\n",
    "            string_output +=(SolutionPrinter.day_converter(d) + \"\\n\")\n",
    "            string_temp2 = \"\"\n",
    "            for s in range(self._num_shifts):\n",
    "                string_temp2 += (\"\\tShift \" + str(s+1) + \"\\n\")\n",
    "                is_nurse_working = False\n",
    "                is_doctor_working = False\n",
    "                string_temp3 = \"\"\n",
    "                for n in range(self._num_nurses):\n",
    "                    if self.Value(self._nurse_shifts[(n, d, s)]):\n",
    "                        is_nurse_working = True\n",
    "                        string_temp3 += (\"\\t\\tNurse \" + str(n+1))\n",
    "                for n in range(self._num_doctors):\n",
    "                    if self.Value(self._doctor_shifts[(n, d, s)]):\n",
    "                        is_doctor_working = True\n",
    "                        if int(n) > self._num_doctor_general-1:\n",
    "                            string_temp3 += (\" Doctor \" + str(n+1) + \" (Specialist)\\n\")\n",
    "                        else:\n",
    "                            string_temp3 += (\" Doctor \" + str(n+1) + \"\\n\")\n",
    "                string_temp2 += string_temp3\n",
    "            string_output += string_temp2\n",
    "        self.StopSearch()\n",
    "        print(string_output)"
   ]
  },
  {
   "cell_type": "code",
   "execution_count": 7,
   "metadata": {},
   "outputs": [
    {
     "name": "stdout",
     "output_type": "stream",
     "text": [
      "Monday\n",
      "\tShift 1\n",
      "\t\tNurse 5 Doctor 4 (Specialist)\n",
      "\tShift 2\n",
      "\t\tNurse 3 Doctor 5 (Specialist)\n",
      "\tShift 3\n",
      "\t\tNurse 4 Doctor 3\n",
      "Tuesday\n",
      "\tShift 1\n",
      "\t\tNurse 5 Doctor 4 (Specialist)\n",
      "\tShift 2\n",
      "\t\tNurse 4 Doctor 5 (Specialist)\n",
      "\tShift 3\n",
      "\t\tNurse 1 Doctor 3\n",
      "Wednesday\n",
      "\tShift 1\n",
      "\t\tNurse 5 Doctor 4 (Specialist)\n",
      "\tShift 2\n",
      "\t\tNurse 4 Doctor 5 (Specialist)\n",
      "\tShift 3\n",
      "\t\tNurse 3 Doctor 1\n",
      "Thursday\n",
      "\tShift 1\n",
      "\t\tNurse 5 Doctor 5 (Specialist)\n",
      "\tShift 2\n",
      "\t\tNurse 2 Doctor 4 (Specialist)\n",
      "\tShift 3\n",
      "\t\tNurse 1 Doctor 2\n",
      "Friday\n",
      "\tShift 1\n",
      "\t\tNurse 3 Doctor 1\n",
      "\tShift 2\n",
      "\t\tNurse 1 Doctor 3\n",
      "\tShift 3\n",
      "\t\tNurse 2 Doctor 2\n",
      "Saturday\n",
      "\tShift 1\n",
      "\t\tNurse 3 Doctor 3\n",
      "\tShift 2\n",
      "\t\tNurse 1 Doctor 1\n",
      "\tShift 3\n",
      "\t\tNurse 2 Doctor 2\n",
      "Sunday\n",
      "\tShift 1\n",
      "\t\tNurse 1 Doctor 3\n",
      "\tShift 2\n",
      "\t\tNurse 4 Doctor 2\n",
      "\tShift 3\n",
      "\t\tNurse 2 Doctor 1\n",
      "\n"
     ]
    },
    {
     "data": {
      "text/plain": [
       "4"
      ]
     },
     "execution_count": 7,
     "metadata": {},
     "output_type": "execute_result"
    }
   ],
   "source": [
    "solver = cp_model.CpSolver()\n",
    "solver.parameters.linearization_level = 0\n",
    "solution_printer = SolutionPrinter(nurse_shifts, num_nurses, doctor_shifts, \n",
    "                                   num_doctors, num_days, num_shifts, num_doctor_general)\n",
    "solver.SolveWithSolutionCallback(model, solution_printer)"
   ]
  },
  {
   "cell_type": "markdown",
   "metadata": {},
   "source": [
    "### Print Requested Day"
   ]
  },
  {
   "cell_type": "markdown",
   "metadata": {},
   "source": [
    "Here, we can request a spesific day to print."
   ]
  },
  {
   "cell_type": "code",
   "execution_count": 8,
   "metadata": {},
   "outputs": [],
   "source": [
    "string_output_global = \"\"\n",
    "class SolutionPrinterRequestedDay(cp_model.CpSolverSolutionCallback):\n",
    "    \"\"\"Print solutions.\"\"\"\n",
    "\n",
    "    def __init__(self, nurse_shifts, num_nurses, doctor_shifts, num_doctors, requested_day, num_shifts,\n",
    "                 num_doctor_general, num_doctor_special):\n",
    "        cp_model.CpSolverSolutionCallback.__init__(self)\n",
    "        self._nurse_shifts = nurse_shifts\n",
    "        self._num_nurses = num_nurses\n",
    "        self._doctor_shifts = doctor_shifts\n",
    "        self._num_doctors = num_doctors\n",
    "        self._day = requested_day\n",
    "        self._num_shifts = num_shifts\n",
    "        self._num_doctor_general = num_doctor_general\n",
    "        self._num_doctor_special = num_doctor_special\n",
    "\n",
    "    def day_converter(day):\n",
    "        if day%7 == 0:\n",
    "            return \"Monday\"\n",
    "        elif day%7 == 1:\n",
    "            return \"Tuesday\"\n",
    "        elif day%7 == 2:\n",
    "            return \"Wednesday\"\n",
    "        elif day%7 == 3:\n",
    "            return \"Thursday\"\n",
    "        elif day%7 == 4:\n",
    "            return \"Friday\"\n",
    "        elif day%7 == 5:\n",
    "            return \"Saturday\"\n",
    "        elif day%7 == 6:\n",
    "            return \"Sunday\"\n",
    "        \n",
    "    def on_solution_callback(self):\n",
    "        d = self._day\n",
    "        string_output = (SolutionPrinterRequestedDay.day_converter(d) + \"\\n\")\n",
    "        string_temp2 = \"\"\n",
    "        for s in range(self._num_shifts):\n",
    "            string_temp2 += (\"\\tShift \" + str(s+1) + \"\\n\")\n",
    "            is_nurse_working = False\n",
    "            is_doctor_working = False\n",
    "            string_temp3 = \"\"\n",
    "            for n in range(self._num_nurses):\n",
    "                if self.Value(self._nurse_shifts[(n, d, s)]):\n",
    "                    is_nurse_working = True\n",
    "                    string_temp3 += (\"\\t\\tNurse \" + str(n+1))\n",
    "            for n in range(self._num_doctors):\n",
    "                if self.Value(self._doctor_shifts[(n, d, s)]):\n",
    "                    is_doctor_working = True\n",
    "                    if int(n) > self._num_doctor_general - 1:\n",
    "                        string_temp3 += (\" Doctor \" + str(n+1) + \" (Specialist)\\n\")\n",
    "                    else:\n",
    "                        string_temp3 += (\" Doctor \" + str(n+1) + \"\\n\")\n",
    "            string_temp2 += string_temp3\n",
    "        string_output += string_temp2\n",
    "        global string_output_global\n",
    "        string_output_global = string_output\n",
    "        self.StopSearch()\n",
    "        print(string_output)"
   ]
  },
  {
   "cell_type": "code",
   "execution_count": 9,
   "metadata": {},
   "outputs": [
    {
     "name": "stdout",
     "output_type": "stream",
     "text": [
      "Enter day: [in number ex: 0; 2]\n",
      "4\n"
     ]
    }
   ],
   "source": [
    "req_day = int(input(\"Enter day: [in number ex: 0; 2]\\n\"))"
   ]
  },
  {
   "cell_type": "code",
   "execution_count": 10,
   "metadata": {},
   "outputs": [
    {
     "name": "stdout",
     "output_type": "stream",
     "text": [
      "Friday\n",
      "\tShift 1\n",
      "\t\tNurse 3 Doctor 1\n",
      "\tShift 2\n",
      "\t\tNurse 1 Doctor 3\n",
      "\tShift 3\n",
      "\t\tNurse 2 Doctor 2\n",
      "\n"
     ]
    },
    {
     "data": {
      "text/plain": [
       "2"
      ]
     },
     "execution_count": 10,
     "metadata": {},
     "output_type": "execute_result"
    }
   ],
   "source": [
    "solution_printer = SolutionPrinterRequestedDay(nurse_shifts, num_nurses, doctor_shifts, num_doctors,\n",
    "                                               req_day, num_shifts,  num_doctor_general, num_doctor_special)\n",
    "solver.SearchForAllSolutions(model, solution_printer)"
   ]
  },
  {
   "cell_type": "markdown",
   "metadata": {},
   "source": [
    "### Print Requested Day and Doctor"
   ]
  },
  {
   "cell_type": "markdown",
   "metadata": {},
   "source": [
    "Here, we can request a spesific day and type of doctor.\n",
    "When the chosen type of doctor is not on call, the patient will get an error message."
   ]
  },
  {
   "cell_type": "code",
   "execution_count": 11,
   "metadata": {},
   "outputs": [],
   "source": [
    "# string_output_global = \"\"\n",
    "class SolutionPrinterRequestedDayAndDoc(cp_model.CpSolverSolutionCallback):\n",
    "    \"\"\"Print solutions.\"\"\"\n",
    "\n",
    "    def __init__(self, nurse_shifts, num_nurses, doctor_shifts, num_doctors, requested_day, num_shifts, \n",
    "                 num_doctor_general, num_doctor_special, doctor_type):\n",
    "        cp_model.CpSolverSolutionCallback.__init__(self)\n",
    "        self._nurse_shifts = nurse_shifts\n",
    "        self._num_nurses = num_nurses\n",
    "        self._doctor_shifts = doctor_shifts\n",
    "        self._num_doctors = num_doctors\n",
    "        self._day = requested_day\n",
    "        self._num_shifts = num_shifts\n",
    "        self._num_doctor_general = num_doctor_general\n",
    "        self._num_doctor_special = num_doctor_special\n",
    "        self._doctor_type = doctor_type\n",
    "\n",
    "    def day_converter(day):\n",
    "        if day%7 == 0:\n",
    "            return \"Monday\"\n",
    "        elif day%7 == 1:\n",
    "            return \"Tuesday\"\n",
    "        elif day%7 == 2:\n",
    "            return \"Wednesday\"\n",
    "        elif day%7 == 3:\n",
    "            return \"Thursday\"\n",
    "        elif day%7 == 4:\n",
    "            return \"Friday\"\n",
    "        elif day%7 == 5:\n",
    "            return \"Saturday\"\n",
    "        elif day%7 == 6:\n",
    "            return \"Sunday\"    \n",
    "    \n",
    "    def on_solution_callback(self):\n",
    "        d = self._day\n",
    "        string_output = (SolutionPrinterRequestedDayAndDoc.day_converter(d) + \"\\n\")\n",
    "        string_temp2 = \"\"\n",
    "        req_checker = False\n",
    "        for s in range(self._num_shifts):\n",
    "            string_temp2 += (\"\\tShift \" + str(s+1) + \"\\n\")\n",
    "            is_nurse_working = False\n",
    "            is_doctor_working = False\n",
    "            string_temp3 = \"\"\n",
    "            for n in range(self._num_nurses):\n",
    "                if self.Value(self._nurse_shifts[(n, d, s)]):\n",
    "                    is_nurse_working = True\n",
    "                    string_temp3 += (\"\\t\\tNurse \" + str(n))\n",
    "            for n in range(self._num_doctors):\n",
    "                if self.Value(self._doctor_shifts[(n, d, s)]):\n",
    "                    is_doctor_working = True\n",
    "                    if int(n) > self._num_doctor_general - 1:\n",
    "                        string_temp3 += (\" Doctor \" + str(n) + \" (Specialist)\\n\")\n",
    "                        if(self._doctor_type == \"Spesialis\"):\n",
    "                            req_checker = True\n",
    "                    else:\n",
    "                        string_temp3 += (\" Doctor \" + str(n) + \"\\n\")\n",
    "                        if(self._doctor_type == \"Umum\"):\n",
    "                            req_checker = True\n",
    "            string_temp2 += string_temp3\n",
    "        string_output += string_temp2\n",
    "        self.StopSearch()\n",
    "        if (req_checker == True):\n",
    "            string_akhir = \"We found a match!\\n\" + string_output\n",
    "            string_output_global = string_akhir\n",
    "            print(string_akhir)\n",
    "        else:\n",
    "            #global string_output_global\n",
    "            string_output_global = \"Sorry, no schedule match your request, please try for another day.\"\n",
    "            print(string_output_global)"
   ]
  },
  {
   "cell_type": "code",
   "execution_count": 12,
   "metadata": {},
   "outputs": [
    {
     "name": "stdout",
     "output_type": "stream",
     "text": [
      "Enter wanted day: [in number ex: 0; 2]\n",
      "5\n",
      "Enter wanted doctor:\n",
      "[Umum for general doctor; Spesialis for specialist]\n",
      "Spesialis\n",
      "Enter symptoms:\n",
      "Fever\n"
     ]
    }
   ],
   "source": [
    "req_day = int(input(\"Enter wanted day: [in number ex: 0; 2]\\n\"))\n",
    "req_doc = input(\"Enter wanted doctor:\\n[Umum for general doctor; Spesialis for specialist]\\n\")\n",
    "symptom = input(\"Enter symptoms:\\n\")"
   ]
  },
  {
   "cell_type": "code",
   "execution_count": 13,
   "metadata": {},
   "outputs": [
    {
     "name": "stdout",
     "output_type": "stream",
     "text": [
      "Sorry, no schedule match your request, please try for another day.\n"
     ]
    },
    {
     "data": {
      "text/plain": [
       "2"
      ]
     },
     "execution_count": 13,
     "metadata": {},
     "output_type": "execute_result"
    }
   ],
   "source": [
    "solution_printer = SolutionPrinterRequestedDayAndDoc(nurse_shifts, num_nurses, doctor_shifts, num_doctors, req_day, num_shifts,\n",
    "                                                     num_doctor_general, num_doctor_special, req_doc)\n",
    "solver.SearchForAllSolutions(model, solution_printer)"
   ]
  },
  {
   "cell_type": "markdown",
   "metadata": {},
   "source": [
    "## Constraints checker"
   ]
  },
  {
   "cell_type": "markdown",
   "metadata": {},
   "source": [
    "Here, we can double check if our constraints are working"
   ]
  },
  {
   "cell_type": "code",
   "execution_count": 14,
   "metadata": {},
   "outputs": [],
   "source": [
    "def ConstraintChecker():\n",
    "    list_result = []\n",
    "    # Each shift is assigned to exactly one nurse.\n",
    "    for d in all_days:\n",
    "        for s in all_shifts:\n",
    "            checker = False\n",
    "            if(sum(nurse_shifts[(n, d, s)] for n in all_nurses) <= 1):\n",
    "                checker = True\n",
    "            list_result.append(checker)\n",
    "                \n",
    "    # Each shift is assigned to exactly one doctor.      \n",
    "    for d in all_days:\n",
    "        for s in all_shifts:\n",
    "            checker = False\n",
    "            if(sum(doctor_shifts[(n, d, s)] for n in all_doctors) <= 1):\n",
    "                checker = True\n",
    "            list_result.append(checker)\n",
    "                \n",
    "    # Each nurse works at most one shift per day.            \n",
    "    for n in all_nurses:\n",
    "        for d in all_days:\n",
    "            checker = False\n",
    "            if(sum(nurse_shifts[(n, d, s)] for s in all_shifts) <= 1):\n",
    "                checker = True\n",
    "            list_result.append(checker)\n",
    "                \n",
    "    # Each doctor works at most one shift per day.            \n",
    "    for n in all_doctors:\n",
    "        for d in all_days:\n",
    "            checker = False\n",
    "            if(sum(doctor_shifts[(n, d, s)] for s in all_shifts) <= 1):\n",
    "                checker = True\n",
    "            list_result.append(checker)\n",
    "    \n",
    "    #Each nurse who works on the last shift \n",
    "    #will not work on the first shift of the following day    \n",
    "    for n in all_nurses:\n",
    "        for d in all_days:\n",
    "            checker = False\n",
    "            if(sum([nurse_shifts[(n, d, num_shifts - 1)], nurse_shifts[(n, (d + 1) % 7, 0)]]) <= 1):\n",
    "                checker = True\n",
    "            list_result.append(checker)\n",
    "      \n",
    "    #Each doctor who works on the last shift \n",
    "    #will not work on the first shift of the following day\n",
    "    for n in all_doctors:\n",
    "        for d in all_days:\n",
    "            checker = False\n",
    "            if(sum([doctor_shifts[(n, d, num_shifts - 1)], doctor_shifts[(n, (d + 1) % 7, 0)]]) <= 1):\n",
    "                checker = True\n",
    "            list_result.append(checker)\n",
    "\n",
    "    #No specialist doctor will work on the last shift\n",
    "    for n in range(num_doctors - num_doctor_special, num_doctors):\n",
    "        for d in all_days:\n",
    "            checker = False\n",
    "            if(sum([doctor_shifts[(n, d, num_shifts - 1)]]) == 0):\n",
    "                checker = True\n",
    "            list_result.append(checker)\n",
    "    \n",
    "    #No nurse got overworked (uneven scheduling)          \n",
    "    min_shifts_per_nurse = (num_shifts * num_days) // num_nurses\n",
    "    if num_shifts * num_days % num_nurses == 0:\n",
    "        max_shifts_per_nurse = min_shifts_per_nurse\n",
    "    else:\n",
    "        max_shifts_per_nurse = min_shifts_per_nurse + 1\n",
    "    for n in all_nurses:\n",
    "        num_shifts_worked = 0\n",
    "        checker = False\n",
    "        for d in all_days:\n",
    "            for s in all_shifts:\n",
    "                num_shifts_worked += nurse_shifts[(n, d, s)]\n",
    "        if num_shifts_worked < max_shifts_per_nurse:\n",
    "            checker = True\n",
    "        list_result.append(checker)\n",
    "        \n",
    "    #No doctor got overworked (uneven scheduling)\n",
    "    min_shifts_per_doctor = (num_shifts * num_days) // num_doctors\n",
    "    if num_shifts * num_days % num_doctors == 0:\n",
    "        max_shifts_per_doctor = min_shifts_per_doctor\n",
    "    else:\n",
    "        max_shifts_per_doctor = min_shifts_per_doctor + 1\n",
    "    for n in all_doctors:\n",
    "        num_shifts_worked = 0\n",
    "        checker = False\n",
    "        for d in all_days:\n",
    "            for s in all_shifts:\n",
    "                num_shifts_worked += doctor_shifts[(n, d, s)]\n",
    "        if num_shifts_worked < max_shifts_per_doctor:\n",
    "            checker = True\n",
    "        list_result.append(checker)\n",
    "    \n",
    "    if all(list_result):\n",
    "        print(\"Constraint satisfied\")\n",
    "    else:\n",
    "        print(\"Constraint not satisfied\")"
   ]
  },
  {
   "cell_type": "code",
   "execution_count": 15,
   "metadata": {},
   "outputs": [
    {
     "name": "stdout",
     "output_type": "stream",
     "text": [
      "Constraint satisfied\n"
     ]
    }
   ],
   "source": [
    "ConstraintChecker()"
   ]
  }
 ],
 "metadata": {
  "kernelspec": {
   "display_name": "Python 3",
   "language": "python",
   "name": "python3"
  },
  "language_info": {
   "codemirror_mode": {
    "name": "ipython",
    "version": 3
   },
   "file_extension": ".py",
   "mimetype": "text/x-python",
   "name": "python",
   "nbconvert_exporter": "python",
   "pygments_lexer": "ipython3",
   "version": "3.8.3"
  }
 },
 "nbformat": 4,
 "nbformat_minor": 4
}
